{
 "cells": [
  {
   "cell_type": "code",
   "execution_count": 1,
   "metadata": {},
   "outputs": [],
   "source": [
    "import winsound\n",
    "duration = 2000  # milliseconds\n",
    "freq = 2000  # Hz"
   ]
  },
  {
   "cell_type": "code",
   "execution_count": 2,
   "metadata": {},
   "outputs": [],
   "source": [
    "import datetime \n",
    "import time\n",
    "\n",
    "#Sound\n",
    "Beep = winsound.Beep(freq, duration)\n",
    "\n",
    "#Current Time\n",
    "now = datetime.datetime.now().time()\n",
    "now1 = datetime.datetime.now().time()\n",
    "\n",
    "#Time at which exercise ends\n",
    "target = datetime.time(16,40,0)"
   ]
  },
  {
   "cell_type": "code",
   "execution_count": 3,
   "metadata": {},
   "outputs": [],
   "source": [
    "#Alarm Clock till target \n",
    "while now < target:\n",
    "    MiniTarget = datetime.datetime.combine(datetime.date.today(), now) + datetime.timedelta(seconds=60)\n",
    "    \n",
    "    while now1 < MiniTarget.time():\n",
    "        now1 = datetime.datetime.now().time()\n",
    "            \n",
    "    Beep\n",
    "    now = datetime.datetime.now().time()\n",
    "    MiniTarget = datetime.datetime.combine(datetime.date.today(), now) + datetime.timedelta(seconds=30)\n",
    "    \n",
    "    while now1 < MiniTarget.time():\n",
    "        now1 = datetime.datetime.now().time()\n",
    "    \n",
    "    Beep\n",
    "    Beep\n",
    "    now = datetime.datetime.now().time()\n",
    "    "
   ]
  },
  {
   "cell_type": "code",
   "execution_count": null,
   "metadata": {},
   "outputs": [],
   "source": [
    "\n",
    "    "
   ]
  },
  {
   "cell_type": "code",
   "execution_count": null,
   "metadata": {},
   "outputs": [],
   "source": []
  },
  {
   "cell_type": "code",
   "execution_count": null,
   "metadata": {},
   "outputs": [],
   "source": []
  },
  {
   "cell_type": "code",
   "execution_count": null,
   "metadata": {},
   "outputs": [],
   "source": []
  },
  {
   "cell_type": "code",
   "execution_count": null,
   "metadata": {},
   "outputs": [],
   "source": []
  },
  {
   "cell_type": "code",
   "execution_count": null,
   "metadata": {},
   "outputs": [],
   "source": []
  },
  {
   "cell_type": "code",
   "execution_count": null,
   "metadata": {},
   "outputs": [],
   "source": []
  },
  {
   "cell_type": "code",
   "execution_count": 4,
   "metadata": {},
   "outputs": [],
   "source": []
  }
 ],
 "metadata": {
  "kernelspec": {
   "display_name": "Python 3",
   "language": "python",
   "name": "python3"
  },
  "language_info": {
   "codemirror_mode": {
    "name": "ipython",
    "version": 3
   },
   "file_extension": ".py",
   "mimetype": "text/x-python",
   "name": "python",
   "nbconvert_exporter": "python",
   "pygments_lexer": "ipython3",
   "version": "3.8.3"
  }
 },
 "nbformat": 4,
 "nbformat_minor": 4
}
